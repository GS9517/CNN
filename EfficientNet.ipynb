{
  "nbformat": 4,
  "nbformat_minor": 0,
  "metadata": {
    "colab": {
      "provenance": [],
      "machine_shape": "hm",
      "gpuType": "A100"
    },
    "kernelspec": {
      "name": "python3",
      "display_name": "Python 3"
    },
    "language_info": {
      "name": "python"
    },
    "accelerator": "GPU"
  },
  "cells": [
    {
      "cell_type": "code",
      "execution_count": null,
      "metadata": {
        "id": "8qdBO4QA48Bj"
      },
      "outputs": [],
      "source": [
        "import torch\n",
        "import torch.nn as nn\n",
        "import torch.nn.functional as F\n",
        "import torchvision.transforms as transforms\n",
        "import torchvision.datasets as datasets\n",
        "import torch.utils.data.dataset\n",
        "import random\n",
        "import seaborn as sns\n",
        "import copy\n",
        "import matplotlib.pyplot as plt\n",
        "import kagglehub\n",
        "from torch.utils.data import Dataset, DataLoader, random_split\n",
        "from tqdm import tqdm\n",
        "from sklearn.metrics import confusion_matrix"
      ]
    },
    {
      "cell_type": "code",
      "source": [
        "class TransformedSubset(Dataset):\n",
        "    def __init__(self, subset, transform):\n",
        "        self.subset = subset\n",
        "        self.transform = transform\n",
        "\n",
        "    def __getitem__(self, index):\n",
        "        X, y = self.subset[index]\n",
        "        if self.transform:\n",
        "            X = self.transform(X)\n",
        "        return X, y\n",
        "\n",
        "    def __len__(self):\n",
        "        return len(self.subset)"
      ],
      "metadata": {
        "id": "CjWahpyj5yhp"
      },
      "execution_count": null,
      "outputs": []
    },
    {
      "cell_type": "code",
      "source": [
        "class SEBlock(nn.Module):\n",
        "    def __init__(self, in_channels, reduction=4):\n",
        "        super().__init__()\n",
        "        self.avg_pool = nn.AdaptiveAvgPool2d(1)\n",
        "        self.fc = nn.Sequential(\n",
        "            nn.Linear(in_channels, in_channels // reduction, bias=True),\n",
        "            nn.ReLU(inplace=True),\n",
        "            nn.Linear(in_channels // reduction, in_channels, bias=True),\n",
        "            nn.Sigmoid()\n",
        "        )\n",
        "\n",
        "    def forward(self, x):\n",
        "        b, c, _, _ = x.size()\n",
        "        y = self.avg_pool(x).view(b, c)\n",
        "        y = self.fc(y).view(b, c, 1, 1)\n",
        "        return x * y\n",
        "\n",
        "class MBConvBlock(nn.Module):\n",
        "    def __init__(self, in_channels, out_channels, expand_ratio, kernel_size=3, stride=1, reduction=4):\n",
        "        super().__init__()\n",
        "        hidden_dim = in_channels * expand_ratio\n",
        "        self.use_res_connect = (stride == 1 and in_channels == out_channels)\n",
        "\n",
        "        layers = []\n",
        "        # Expansion phase (if expand_ratio != 1)\n",
        "        if expand_ratio != 1:\n",
        "            layers.extend([\n",
        "                nn.Conv2d(in_channels, hidden_dim, kernel_size=1, bias=False),\n",
        "                nn.BatchNorm2d(hidden_dim),\n",
        "                nn.SiLU(inplace=True)\n",
        "            ])\n",
        "\n",
        "        # Depthwise convolution\n",
        "        layers.extend([\n",
        "            nn.Conv2d(hidden_dim, hidden_dim, kernel_size=kernel_size, stride=stride,\n",
        "                      padding=kernel_size // 2, groups=hidden_dim, bias=False),\n",
        "            nn.BatchNorm2d(hidden_dim),\n",
        "            nn.SiLU(inplace=True)\n",
        "        ])\n",
        "\n",
        "        # Squeeze and Excitation\n",
        "        layers.append(SEBlock(hidden_dim, reduction=reduction))\n",
        "\n",
        "        # Projection phase\n",
        "        layers.extend([\n",
        "            nn.Conv2d(hidden_dim, out_channels, kernel_size=1, bias=False),\n",
        "            nn.BatchNorm2d(out_channels)\n",
        "        ])\n",
        "\n",
        "        self.block = nn.Sequential(*layers)\n",
        "\n",
        "    def forward(self, x):\n",
        "        if self.use_res_connect:\n",
        "            return x + self.block(x)\n",
        "        else:\n",
        "            return self.block(x)\n",
        "\n",
        "class EfficientNet(nn.Module):\n",
        "    def __init__(self, num_classes=15):\n",
        "        super().__init__()\n",
        "        # Stem: initial convolution layer\n",
        "        self.stem = nn.Sequential(\n",
        "            nn.Conv2d(3, 32, kernel_size=3, stride=2, padding=1, bias=False),\n",
        "            nn.BatchNorm2d(32),\n",
        "            nn.SiLU(inplace=True)\n",
        "        )\n",
        "\n",
        "        # Define a series of MBConv blocks.\n",
        "        # The configuration list follows: [in_channels, out_channels, num_blocks, expand_ratio, kernel_size, stride]\n",
        "        config = [\n",
        "            [32, 16, 1, 1, 3, 1],\n",
        "            [16, 24, 2, 6, 3, 2],\n",
        "            [24, 40, 2, 6, 5, 2],\n",
        "            [40, 80, 3, 6, 3, 2],\n",
        "            [80, 112, 3, 6, 5, 1],\n",
        "            [112, 192, 4, 6, 5, 2],\n",
        "            [192, 320, 1, 6, 3, 1]\n",
        "        ]\n",
        "\n",
        "        blocks = []\n",
        "        for in_channels, out_channels, num_blocks, expand_ratio, kernel_size, stride in config:\n",
        "            # First block in each group may have a stride > 1 for downsampling.\n",
        "            blocks.append(MBConvBlock(in_channels, out_channels, expand_ratio, kernel_size, stride))\n",
        "            for _ in range(1, num_blocks):\n",
        "                blocks.append(MBConvBlock(out_channels, out_channels, expand_ratio, kernel_size, stride=1))\n",
        "\n",
        "        self.blocks = nn.Sequential(*blocks)\n",
        "\n",
        "        # Head: Final convolution, pooling and classifier\n",
        "        self.head = nn.Sequential(\n",
        "            nn.Conv2d(320, 1280, kernel_size=1, bias=False),\n",
        "            nn.BatchNorm2d(1280),\n",
        "            nn.SiLU(inplace=True)\n",
        "        )\n",
        "\n",
        "        self.pool = nn.AdaptiveAvgPool2d(1)\n",
        "        self.dropout = nn.Dropout(0.2)\n",
        "        self.classifier = nn.Linear(1280, num_classes)\n",
        "\n",
        "    def forward(self, x):\n",
        "        x = self.stem(x)\n",
        "        x = self.blocks(x)\n",
        "        x = self.head(x)\n",
        "        x = self.pool(x).view(x.size(0), -1)\n",
        "        x = self.dropout(x)\n",
        "        x = self.classifier(x)\n",
        "        return x"
      ],
      "metadata": {
        "id": "FRbUMi0f51f2"
      },
      "execution_count": null,
      "outputs": []
    },
    {
      "cell_type": "code",
      "source": [
        "# Download latest version\n",
        "path = kagglehub.dataset_download(\"ankit1743/skyview-an-aerial-landscape-dataset\")\n",
        "path += \"/Aerial_Landscapes\"\n",
        "\n",
        "class RandomMask(nn.Module):\n",
        "    def __init__(self, num_blocks=3, block_size=50, p=0.5):\n",
        "        super().__init__()\n",
        "        self.num_blocks = num_blocks\n",
        "        self.block_size = block_size\n",
        "        self.p = p\n",
        "\n",
        "    def forward(self, img):\n",
        "        if random.random() < self.p:\n",
        "            # 获取Tensor格式的尺寸\n",
        "            c, h, w = img.shape\n",
        "\n",
        "            for _ in range(self.num_blocks):\n",
        "                # random block position\n",
        "                x = random.randint(0, h - self.block_size)\n",
        "                y = random.randint(0, w - self.block_size)\n",
        "\n",
        "                # random mask type\n",
        "                mask_type = random.choice([0, 1, 2])\n",
        "\n",
        "                if mask_type == 0:  # gray block\n",
        "                    img[:, x:x+self.block_size, y:y+self.block_size] = 0.5 # 0.5是灰色\n",
        "                elif mask_type == 1:  # random noise\n",
        "                    noise = torch.rand_like(img[:, x:x+self.block_size, y:y+self.block_size])\n",
        "                    img[:, x:x+self.block_size, y:y+self.block_size] = noise\n",
        "                else: # 不操作\n",
        "                    pass\n",
        "        return img\n",
        "\n",
        "# Define the transformations for the training sets\n",
        "train_transform = transforms.Compose([\n",
        "    # PIL\n",
        "    transforms.RandomResizedCrop(256),\n",
        "    transforms.RandomHorizontalFlip(p=0.5),\n",
        "    transforms.RandomVerticalFlip(p=0.5),\n",
        "    transforms.ColorJitter(0.2, 0.2, 0.2),\n",
        "    # transforms.RandomPerspective(distortion_scale=0.5, p=1.0),\n",
        "    # 别开这个选项 模型完全没有空间感知能力 开了包炸的\n",
        "    transforms.RandomRotation(15),\n",
        "\n",
        "    transforms.ToTensor(),\n",
        "    # Augmentations for Tensor\n",
        "    RandomMask(num_blocks=2, block_size=32, p=0.5),\n",
        "    transforms.RandomErasing(p=0.3),\n",
        "    transforms.Normalize([0.485, 0.456, 0.406],\n",
        "                        [0.229, 0.224, 0.225])\n",
        "])\n",
        "\n",
        "generic_transform = transforms.Compose([\n",
        "    transforms.Resize((256, 256)),\n",
        "    transforms.ToTensor(),\n",
        "    transforms.Normalize(mean=[0.485, 0.456, 0.406],\n",
        "               std=[0.229, 0.224, 0.225])\n",
        "])\n",
        "\n",
        "dataset = datasets.ImageFolder(root=path, transform=None)\n",
        "dataset_size = len(dataset)\n",
        "\n",
        "train_size = int(0.8 * dataset_size)\n",
        "val_size = int(0.1 * dataset_size)\n",
        "test_size = dataset_size - train_size - val_size\n",
        "\n",
        "train_dataset, val_dataset, test_dataset = random_split(dataset, [train_size, val_size, test_size])\n",
        "\n",
        "# Apply the transforms to the datasets\n",
        "train_dataset = TransformedSubset(train_dataset, train_transform)\n",
        "val_dataset = TransformedSubset(val_dataset, generic_transform)\n",
        "test_dataset = TransformedSubset(test_dataset, generic_transform)\n",
        "\n",
        "train_loader = DataLoader(train_dataset, batch_size=64, shuffle=True, num_workers=4)\n",
        "val_loader = DataLoader(val_dataset, batch_size=64, shuffle=True, num_workers=4)\n",
        "test_loader = DataLoader(test_dataset, batch_size=64, shuffle=False, num_workers=4)\n",
        "\n",
        "device = torch.device(\"cuda\" if torch.cuda.is_available() else \"cpu\")\n",
        "model = EfficientNet(num_classes=15).to(device)\n",
        "criterion = nn.CrossEntropyLoss()\n",
        "num_epochs = 150\n",
        "# optimizer\n",
        "optimizer = torch.optim.AdamW(model.parameters(), lr=0.0005)\n",
        "# optimizer = torch.optim.SGD(model.parameters(), lr=0.01, momentum=0.9, weight_decay=0.0005, nesterov=True) # Yolo v11's parameter, I do not know why, dont modify it, it is perfect\n",
        "# scheduler = torch.optim.lr_scheduler.CosineAnnealingLR(optimizer, T_max=num_epochs, eta_min=1e-5)\n",
        "# scheduler = torch.optim.lr_scheduler.MultiStepLR(optimizer, milestones=[int(0.3*num_epochs), int(0.6* num_epochs), int(0.9*num_epochs)], gamma=0.1)\n",
        "# Print the total number of parameters in the modeld\n",
        "total_params = sum(p.numel() for p in model.parameters())\n",
        "\n",
        "print(f\"Total number of parameters: {total_params}\")\n",
        "\n",
        "best_models = []  # Stores (validation accuracy, epoch, model_state_dict)\n",
        "\n",
        "for epoch in range(num_epochs):\n",
        "    model.train()\n",
        "    running_loss = 0.0\n",
        "    best_accuracy = 0.0\n",
        "    progress_bar = tqdm(train_loader, desc=f\"Epoch {epoch+1}/{num_epochs}\", unit=\"batch\")\n",
        "\n",
        "    for images, labels in progress_bar:\n",
        "        images = images.to(device)\n",
        "        labels = labels.to(device)\n",
        "\n",
        "        optimizer.zero_grad()\n",
        "        outputs = model(images)\n",
        "        loss = criterion(outputs, labels)\n",
        "        loss.backward()\n",
        "        optimizer.step()\n",
        "\n",
        "        running_loss += loss.item() * images.size(0)\n",
        "        progress_bar.set_postfix(loss=loss.item())\n",
        "\n",
        "    epoch_loss = running_loss / train_size\n",
        "\n",
        "    # Validation phase\n",
        "    model.eval()\n",
        "    correct = 0\n",
        "    total = 0\n",
        "    val_loss = 0.0\n",
        "\n",
        "    with torch.no_grad():\n",
        "        for images, labels in val_loader:\n",
        "            images = images.to(device)\n",
        "            labels = labels.to(device)\n",
        "            outputs = model(images)\n",
        "            _, predicted = torch.max(outputs, 1)\n",
        "            total += labels.size(0)\n",
        "            correct += (predicted == labels).sum().item()\n",
        "            loss = criterion(outputs, labels)\n",
        "            val_loss += loss.item() * images.size(0)\n",
        "\n",
        "    val_loss /= val_size\n",
        "    accuracy = 100 * correct / total\n",
        "\n",
        "    print(f\"Validation: Accuracy: {accuracy:.2f}%, Loss: {val_loss:.2f}\")\n",
        "\n",
        "    # Save the best 10 models based on validation accuracy\n",
        "    if len(best_models) < 10:\n",
        "        best_models.append((accuracy, epoch, copy.deepcopy(model.state_dict())))  # Store a deep copy of the model state\n",
        "    else:\n",
        "        # Find the model with the lowest validation accuracy\n",
        "        min_idx = min(range(len(best_models)), key=lambda i: best_models[i][0])  # Get index of the worst model\n",
        "        if accuracy > best_models[min_idx][0]:  # Replace only if the current model is better\n",
        "           best_models[min_idx] = (accuracy, epoch, copy.deepcopy(model.state_dict()))  # Corrected replacement\n"
      ],
      "metadata": {
        "colab": {
          "base_uri": "https://localhost:8080/"
        },
        "id": "rj5Iizzf54ui",
        "outputId": "4c9bec1a-4cf2-45f5-ae2d-ad7d7d31411a"
      },
      "execution_count": null,
      "outputs": [
        {
          "output_type": "stream",
          "name": "stdout",
          "text": [
            "Total number of parameters: 7162063\n"
          ]
        },
        {
          "output_type": "stream",
          "name": "stderr",
          "text": [
            "Epoch 1/150: 100%|██████████| 150/150 [00:16<00:00,  8.85batch/s, loss=1.55]\n"
          ]
        },
        {
          "output_type": "stream",
          "name": "stdout",
          "text": [
            "Validation: Accuracy: 51.00%, Loss: 1.48\n"
          ]
        },
        {
          "output_type": "stream",
          "name": "stderr",
          "text": [
            "Epoch 2/150: 100%|██████████| 150/150 [00:16<00:00,  9.01batch/s, loss=1.17]\n"
          ]
        },
        {
          "output_type": "stream",
          "name": "stdout",
          "text": [
            "Validation: Accuracy: 53.75%, Loss: 1.36\n"
          ]
        },
        {
          "output_type": "stream",
          "name": "stderr",
          "text": [
            "Epoch 3/150: 100%|██████████| 150/150 [00:16<00:00,  9.04batch/s, loss=1.24]\n"
          ]
        },
        {
          "output_type": "stream",
          "name": "stdout",
          "text": [
            "Validation: Accuracy: 62.58%, Loss: 1.12\n"
          ]
        },
        {
          "output_type": "stream",
          "name": "stderr",
          "text": [
            "Epoch 4/150: 100%|██████████| 150/150 [00:16<00:00,  9.14batch/s, loss=1.16]\n"
          ]
        },
        {
          "output_type": "stream",
          "name": "stdout",
          "text": [
            "Validation: Accuracy: 65.67%, Loss: 1.04\n"
          ]
        },
        {
          "output_type": "stream",
          "name": "stderr",
          "text": [
            "Epoch 5/150: 100%|██████████| 150/150 [00:16<00:00,  9.16batch/s, loss=0.949]\n"
          ]
        },
        {
          "output_type": "stream",
          "name": "stdout",
          "text": [
            "Validation: Accuracy: 72.83%, Loss: 0.84\n"
          ]
        },
        {
          "output_type": "stream",
          "name": "stderr",
          "text": [
            "Epoch 6/150: 100%|██████████| 150/150 [00:16<00:00,  9.14batch/s, loss=1.49]\n"
          ]
        },
        {
          "output_type": "stream",
          "name": "stdout",
          "text": [
            "Validation: Accuracy: 71.33%, Loss: 0.83\n"
          ]
        },
        {
          "output_type": "stream",
          "name": "stderr",
          "text": [
            "Epoch 7/150: 100%|██████████| 150/150 [00:16<00:00,  9.05batch/s, loss=0.884]\n"
          ]
        },
        {
          "output_type": "stream",
          "name": "stdout",
          "text": [
            "Validation: Accuracy: 78.33%, Loss: 0.69\n"
          ]
        },
        {
          "output_type": "stream",
          "name": "stderr",
          "text": [
            "Epoch 8/150: 100%|██████████| 150/150 [00:16<00:00,  9.09batch/s, loss=0.797]\n"
          ]
        },
        {
          "output_type": "stream",
          "name": "stdout",
          "text": [
            "Validation: Accuracy: 77.00%, Loss: 0.71\n"
          ]
        },
        {
          "output_type": "stream",
          "name": "stderr",
          "text": [
            "Epoch 9/150: 100%|██████████| 150/150 [00:16<00:00,  9.04batch/s, loss=0.669]\n"
          ]
        },
        {
          "output_type": "stream",
          "name": "stdout",
          "text": [
            "Validation: Accuracy: 81.17%, Loss: 0.60\n"
          ]
        },
        {
          "output_type": "stream",
          "name": "stderr",
          "text": [
            "Epoch 10/150: 100%|██████████| 150/150 [00:16<00:00,  9.05batch/s, loss=0.549]\n"
          ]
        },
        {
          "output_type": "stream",
          "name": "stdout",
          "text": [
            "Validation: Accuracy: 82.17%, Loss: 0.56\n"
          ]
        },
        {
          "output_type": "stream",
          "name": "stderr",
          "text": [
            "Epoch 11/150: 100%|██████████| 150/150 [00:16<00:00,  8.99batch/s, loss=0.633]\n"
          ]
        },
        {
          "output_type": "stream",
          "name": "stdout",
          "text": [
            "Validation: Accuracy: 84.58%, Loss: 0.49\n"
          ]
        },
        {
          "output_type": "stream",
          "name": "stderr",
          "text": [
            "Epoch 12/150: 100%|██████████| 150/150 [00:16<00:00,  9.09batch/s, loss=0.498]\n"
          ]
        },
        {
          "output_type": "stream",
          "name": "stdout",
          "text": [
            "Validation: Accuracy: 80.67%, Loss: 0.60\n"
          ]
        },
        {
          "output_type": "stream",
          "name": "stderr",
          "text": [
            "Epoch 13/150: 100%|██████████| 150/150 [00:16<00:00,  8.98batch/s, loss=0.547]\n"
          ]
        },
        {
          "output_type": "stream",
          "name": "stdout",
          "text": [
            "Validation: Accuracy: 83.08%, Loss: 0.52\n"
          ]
        },
        {
          "output_type": "stream",
          "name": "stderr",
          "text": [
            "Epoch 14/150: 100%|██████████| 150/150 [00:16<00:00,  9.16batch/s, loss=0.598]\n"
          ]
        },
        {
          "output_type": "stream",
          "name": "stdout",
          "text": [
            "Validation: Accuracy: 84.33%, Loss: 0.47\n"
          ]
        },
        {
          "output_type": "stream",
          "name": "stderr",
          "text": [
            "Epoch 15/150: 100%|██████████| 150/150 [00:16<00:00,  9.10batch/s, loss=0.63]\n"
          ]
        },
        {
          "output_type": "stream",
          "name": "stdout",
          "text": [
            "Validation: Accuracy: 84.75%, Loss: 0.47\n"
          ]
        },
        {
          "output_type": "stream",
          "name": "stderr",
          "text": [
            "Epoch 16/150: 100%|██████████| 150/150 [00:16<00:00,  9.03batch/s, loss=0.482]\n"
          ]
        },
        {
          "output_type": "stream",
          "name": "stdout",
          "text": [
            "Validation: Accuracy: 86.58%, Loss: 0.42\n"
          ]
        },
        {
          "output_type": "stream",
          "name": "stderr",
          "text": [
            "Epoch 17/150: 100%|██████████| 150/150 [00:16<00:00,  8.99batch/s, loss=0.625]\n"
          ]
        },
        {
          "output_type": "stream",
          "name": "stdout",
          "text": [
            "Validation: Accuracy: 86.67%, Loss: 0.43\n"
          ]
        },
        {
          "output_type": "stream",
          "name": "stderr",
          "text": [
            "Epoch 18/150: 100%|██████████| 150/150 [00:16<00:00,  9.01batch/s, loss=0.741]\n"
          ]
        },
        {
          "output_type": "stream",
          "name": "stdout",
          "text": [
            "Validation: Accuracy: 86.58%, Loss: 0.41\n"
          ]
        },
        {
          "output_type": "stream",
          "name": "stderr",
          "text": [
            "Epoch 19/150: 100%|██████████| 150/150 [00:16<00:00,  9.02batch/s, loss=0.666]\n"
          ]
        },
        {
          "output_type": "stream",
          "name": "stdout",
          "text": [
            "Validation: Accuracy: 86.92%, Loss: 0.40\n"
          ]
        },
        {
          "output_type": "stream",
          "name": "stderr",
          "text": [
            "Epoch 20/150: 100%|██████████| 150/150 [00:16<00:00,  8.98batch/s, loss=0.404]\n"
          ]
        },
        {
          "output_type": "stream",
          "name": "stdout",
          "text": [
            "Validation: Accuracy: 88.42%, Loss: 0.37\n"
          ]
        },
        {
          "output_type": "stream",
          "name": "stderr",
          "text": [
            "Epoch 21/150: 100%|██████████| 150/150 [00:16<00:00,  9.12batch/s, loss=0.727]\n"
          ]
        },
        {
          "output_type": "stream",
          "name": "stdout",
          "text": [
            "Validation: Accuracy: 87.67%, Loss: 0.36\n"
          ]
        },
        {
          "output_type": "stream",
          "name": "stderr",
          "text": [
            "Epoch 22/150: 100%|██████████| 150/150 [00:16<00:00,  8.93batch/s, loss=0.348]\n"
          ]
        },
        {
          "output_type": "stream",
          "name": "stdout",
          "text": [
            "Validation: Accuracy: 87.00%, Loss: 0.38\n"
          ]
        },
        {
          "output_type": "stream",
          "name": "stderr",
          "text": [
            "Epoch 23/150: 100%|██████████| 150/150 [00:16<00:00,  9.02batch/s, loss=0.558]\n"
          ]
        },
        {
          "output_type": "stream",
          "name": "stdout",
          "text": [
            "Validation: Accuracy: 90.25%, Loss: 0.33\n"
          ]
        },
        {
          "output_type": "stream",
          "name": "stderr",
          "text": [
            "Epoch 24/150: 100%|██████████| 150/150 [00:16<00:00,  9.08batch/s, loss=0.509]\n"
          ]
        },
        {
          "output_type": "stream",
          "name": "stdout",
          "text": [
            "Validation: Accuracy: 90.00%, Loss: 0.32\n"
          ]
        },
        {
          "output_type": "stream",
          "name": "stderr",
          "text": [
            "Epoch 25/150: 100%|██████████| 150/150 [00:16<00:00,  9.03batch/s, loss=0.429]\n"
          ]
        },
        {
          "output_type": "stream",
          "name": "stdout",
          "text": [
            "Validation: Accuracy: 89.08%, Loss: 0.34\n"
          ]
        },
        {
          "output_type": "stream",
          "name": "stderr",
          "text": [
            "Epoch 26/150: 100%|██████████| 150/150 [00:16<00:00,  9.02batch/s, loss=0.42]\n"
          ]
        },
        {
          "output_type": "stream",
          "name": "stdout",
          "text": [
            "Validation: Accuracy: 91.58%, Loss: 0.28\n"
          ]
        },
        {
          "output_type": "stream",
          "name": "stderr",
          "text": [
            "Epoch 27/150: 100%|██████████| 150/150 [00:16<00:00,  9.05batch/s, loss=0.534]\n"
          ]
        },
        {
          "output_type": "stream",
          "name": "stdout",
          "text": [
            "Validation: Accuracy: 89.75%, Loss: 0.30\n"
          ]
        },
        {
          "output_type": "stream",
          "name": "stderr",
          "text": [
            "Epoch 28/150: 100%|██████████| 150/150 [00:16<00:00,  9.06batch/s, loss=0.348]\n"
          ]
        },
        {
          "output_type": "stream",
          "name": "stdout",
          "text": [
            "Validation: Accuracy: 89.83%, Loss: 0.34\n"
          ]
        },
        {
          "output_type": "stream",
          "name": "stderr",
          "text": [
            "Epoch 29/150: 100%|██████████| 150/150 [00:16<00:00,  9.14batch/s, loss=0.433]\n"
          ]
        },
        {
          "output_type": "stream",
          "name": "stdout",
          "text": [
            "Validation: Accuracy: 91.42%, Loss: 0.30\n"
          ]
        },
        {
          "output_type": "stream",
          "name": "stderr",
          "text": [
            "Epoch 30/150: 100%|██████████| 150/150 [00:16<00:00,  9.08batch/s, loss=0.305]\n"
          ]
        },
        {
          "output_type": "stream",
          "name": "stdout",
          "text": [
            "Validation: Accuracy: 90.33%, Loss: 0.30\n"
          ]
        },
        {
          "output_type": "stream",
          "name": "stderr",
          "text": [
            "Epoch 31/150: 100%|██████████| 150/150 [00:16<00:00,  9.10batch/s, loss=0.306]\n"
          ]
        },
        {
          "output_type": "stream",
          "name": "stdout",
          "text": [
            "Validation: Accuracy: 92.00%, Loss: 0.25\n"
          ]
        },
        {
          "output_type": "stream",
          "name": "stderr",
          "text": [
            "Epoch 32/150: 100%|██████████| 150/150 [00:16<00:00,  9.04batch/s, loss=0.606]\n"
          ]
        },
        {
          "output_type": "stream",
          "name": "stdout",
          "text": [
            "Validation: Accuracy: 91.83%, Loss: 0.26\n"
          ]
        },
        {
          "output_type": "stream",
          "name": "stderr",
          "text": [
            "Epoch 33/150: 100%|██████████| 150/150 [00:16<00:00,  9.12batch/s, loss=0.71]\n"
          ]
        },
        {
          "output_type": "stream",
          "name": "stdout",
          "text": [
            "Validation: Accuracy: 92.75%, Loss: 0.26\n"
          ]
        },
        {
          "output_type": "stream",
          "name": "stderr",
          "text": [
            "Epoch 34/150: 100%|██████████| 150/150 [00:16<00:00,  9.03batch/s, loss=0.253]\n"
          ]
        },
        {
          "output_type": "stream",
          "name": "stdout",
          "text": [
            "Validation: Accuracy: 92.00%, Loss: 0.27\n"
          ]
        },
        {
          "output_type": "stream",
          "name": "stderr",
          "text": [
            "Epoch 35/150: 100%|██████████| 150/150 [00:16<00:00,  8.97batch/s, loss=0.351]\n"
          ]
        },
        {
          "output_type": "stream",
          "name": "stdout",
          "text": [
            "Validation: Accuracy: 92.33%, Loss: 0.25\n"
          ]
        },
        {
          "output_type": "stream",
          "name": "stderr",
          "text": [
            "Epoch 36/150: 100%|██████████| 150/150 [00:16<00:00,  9.11batch/s, loss=0.343]\n"
          ]
        },
        {
          "output_type": "stream",
          "name": "stdout",
          "text": [
            "Validation: Accuracy: 92.08%, Loss: 0.22\n"
          ]
        },
        {
          "output_type": "stream",
          "name": "stderr",
          "text": [
            "Epoch 37/150: 100%|██████████| 150/150 [00:16<00:00,  8.98batch/s, loss=0.443]\n"
          ]
        },
        {
          "output_type": "stream",
          "name": "stdout",
          "text": [
            "Validation: Accuracy: 91.92%, Loss: 0.23\n"
          ]
        },
        {
          "output_type": "stream",
          "name": "stderr",
          "text": [
            "Epoch 38/150: 100%|██████████| 150/150 [00:16<00:00,  9.16batch/s, loss=0.591]\n"
          ]
        },
        {
          "output_type": "stream",
          "name": "stdout",
          "text": [
            "Validation: Accuracy: 91.33%, Loss: 0.25\n"
          ]
        },
        {
          "output_type": "stream",
          "name": "stderr",
          "text": [
            "Epoch 39/150: 100%|██████████| 150/150 [00:16<00:00,  9.05batch/s, loss=0.194]\n"
          ]
        },
        {
          "output_type": "stream",
          "name": "stdout",
          "text": [
            "Validation: Accuracy: 92.00%, Loss: 0.27\n"
          ]
        },
        {
          "output_type": "stream",
          "name": "stderr",
          "text": [
            "Epoch 40/150: 100%|██████████| 150/150 [00:16<00:00,  9.09batch/s, loss=0.329]\n"
          ]
        },
        {
          "output_type": "stream",
          "name": "stdout",
          "text": [
            "Validation: Accuracy: 91.83%, Loss: 0.25\n"
          ]
        },
        {
          "output_type": "stream",
          "name": "stderr",
          "text": [
            "Epoch 41/150: 100%|██████████| 150/150 [00:16<00:00,  8.94batch/s, loss=0.14]\n"
          ]
        },
        {
          "output_type": "stream",
          "name": "stdout",
          "text": [
            "Validation: Accuracy: 93.67%, Loss: 0.22\n"
          ]
        },
        {
          "output_type": "stream",
          "name": "stderr",
          "text": [
            "Epoch 42/150: 100%|██████████| 150/150 [00:16<00:00,  9.15batch/s, loss=0.245]\n"
          ]
        },
        {
          "output_type": "stream",
          "name": "stdout",
          "text": [
            "Validation: Accuracy: 92.00%, Loss: 0.24\n"
          ]
        },
        {
          "output_type": "stream",
          "name": "stderr",
          "text": [
            "Epoch 43/150: 100%|██████████| 150/150 [00:16<00:00,  9.10batch/s, loss=0.54]\n"
          ]
        },
        {
          "output_type": "stream",
          "name": "stdout",
          "text": [
            "Validation: Accuracy: 93.25%, Loss: 0.21\n"
          ]
        },
        {
          "output_type": "stream",
          "name": "stderr",
          "text": [
            "Epoch 44/150: 100%|██████████| 150/150 [00:16<00:00,  9.04batch/s, loss=0.47]\n"
          ]
        },
        {
          "output_type": "stream",
          "name": "stdout",
          "text": [
            "Validation: Accuracy: 92.58%, Loss: 0.23\n"
          ]
        },
        {
          "output_type": "stream",
          "name": "stderr",
          "text": [
            "Epoch 45/150: 100%|██████████| 150/150 [00:16<00:00,  9.06batch/s, loss=0.24]\n"
          ]
        },
        {
          "output_type": "stream",
          "name": "stdout",
          "text": [
            "Validation: Accuracy: 93.50%, Loss: 0.20\n"
          ]
        },
        {
          "output_type": "stream",
          "name": "stderr",
          "text": [
            "Epoch 46/150: 100%|██████████| 150/150 [00:16<00:00,  9.07batch/s, loss=0.215]\n"
          ]
        },
        {
          "output_type": "stream",
          "name": "stdout",
          "text": [
            "Validation: Accuracy: 94.33%, Loss: 0.20\n"
          ]
        },
        {
          "output_type": "stream",
          "name": "stderr",
          "text": [
            "Epoch 47/150: 100%|██████████| 150/150 [00:16<00:00,  9.08batch/s, loss=0.455]\n"
          ]
        },
        {
          "output_type": "stream",
          "name": "stdout",
          "text": [
            "Validation: Accuracy: 93.00%, Loss: 0.22\n"
          ]
        },
        {
          "output_type": "stream",
          "name": "stderr",
          "text": [
            "Epoch 48/150: 100%|██████████| 150/150 [00:16<00:00,  9.04batch/s, loss=0.336]\n"
          ]
        },
        {
          "output_type": "stream",
          "name": "stdout",
          "text": [
            "Validation: Accuracy: 94.00%, Loss: 0.20\n"
          ]
        },
        {
          "output_type": "stream",
          "name": "stderr",
          "text": [
            "Epoch 49/150: 100%|██████████| 150/150 [00:16<00:00,  9.08batch/s, loss=0.247]\n"
          ]
        },
        {
          "output_type": "stream",
          "name": "stdout",
          "text": [
            "Validation: Accuracy: 92.42%, Loss: 0.24\n"
          ]
        },
        {
          "output_type": "stream",
          "name": "stderr",
          "text": [
            "Epoch 50/150: 100%|██████████| 150/150 [00:16<00:00,  9.05batch/s, loss=0.323]\n"
          ]
        },
        {
          "output_type": "stream",
          "name": "stdout",
          "text": [
            "Validation: Accuracy: 93.42%, Loss: 0.22\n"
          ]
        },
        {
          "output_type": "stream",
          "name": "stderr",
          "text": [
            "Epoch 51/150: 100%|██████████| 150/150 [00:16<00:00,  8.92batch/s, loss=0.23]\n"
          ]
        },
        {
          "output_type": "stream",
          "name": "stdout",
          "text": [
            "Validation: Accuracy: 93.33%, Loss: 0.21\n"
          ]
        },
        {
          "output_type": "stream",
          "name": "stderr",
          "text": [
            "Epoch 52/150: 100%|██████████| 150/150 [00:16<00:00,  9.19batch/s, loss=0.29]\n"
          ]
        },
        {
          "output_type": "stream",
          "name": "stdout",
          "text": [
            "Validation: Accuracy: 93.67%, Loss: 0.22\n"
          ]
        },
        {
          "output_type": "stream",
          "name": "stderr",
          "text": [
            "Epoch 53/150: 100%|██████████| 150/150 [00:16<00:00,  9.15batch/s, loss=0.227]\n"
          ]
        },
        {
          "output_type": "stream",
          "name": "stdout",
          "text": [
            "Validation: Accuracy: 93.58%, Loss: 0.17\n"
          ]
        },
        {
          "output_type": "stream",
          "name": "stderr",
          "text": [
            "Epoch 54/150: 100%|██████████| 150/150 [00:16<00:00,  8.89batch/s, loss=0.417]\n"
          ]
        },
        {
          "output_type": "stream",
          "name": "stdout",
          "text": [
            "Validation: Accuracy: 94.17%, Loss: 0.18\n"
          ]
        },
        {
          "output_type": "stream",
          "name": "stderr",
          "text": [
            "Epoch 55/150: 100%|██████████| 150/150 [00:16<00:00,  9.02batch/s, loss=0.175]\n"
          ]
        },
        {
          "output_type": "stream",
          "name": "stdout",
          "text": [
            "Validation: Accuracy: 92.92%, Loss: 0.22\n"
          ]
        },
        {
          "output_type": "stream",
          "name": "stderr",
          "text": [
            "Epoch 56/150: 100%|██████████| 150/150 [00:16<00:00,  9.00batch/s, loss=0.262]\n"
          ]
        },
        {
          "output_type": "stream",
          "name": "stdout",
          "text": [
            "Validation: Accuracy: 94.50%, Loss: 0.18\n"
          ]
        },
        {
          "output_type": "stream",
          "name": "stderr",
          "text": [
            "Epoch 57/150: 100%|██████████| 150/150 [00:16<00:00,  9.09batch/s, loss=0.161]\n"
          ]
        },
        {
          "output_type": "stream",
          "name": "stdout",
          "text": [
            "Validation: Accuracy: 93.42%, Loss: 0.20\n"
          ]
        },
        {
          "output_type": "stream",
          "name": "stderr",
          "text": [
            "Epoch 58/150: 100%|██████████| 150/150 [00:16<00:00,  9.05batch/s, loss=0.47]\n"
          ]
        },
        {
          "output_type": "stream",
          "name": "stdout",
          "text": [
            "Validation: Accuracy: 94.50%, Loss: 0.18\n"
          ]
        },
        {
          "output_type": "stream",
          "name": "stderr",
          "text": [
            "Epoch 59/150: 100%|██████████| 150/150 [00:16<00:00,  9.08batch/s, loss=0.181]\n"
          ]
        },
        {
          "output_type": "stream",
          "name": "stdout",
          "text": [
            "Validation: Accuracy: 94.08%, Loss: 0.18\n"
          ]
        },
        {
          "output_type": "stream",
          "name": "stderr",
          "text": [
            "Epoch 60/150: 100%|██████████| 150/150 [00:16<00:00,  9.09batch/s, loss=0.196]\n"
          ]
        },
        {
          "output_type": "stream",
          "name": "stdout",
          "text": [
            "Validation: Accuracy: 94.67%, Loss: 0.19\n"
          ]
        },
        {
          "output_type": "stream",
          "name": "stderr",
          "text": [
            "Epoch 61/150: 100%|██████████| 150/150 [00:16<00:00,  8.95batch/s, loss=0.189]\n"
          ]
        },
        {
          "output_type": "stream",
          "name": "stdout",
          "text": [
            "Validation: Accuracy: 95.17%, Loss: 0.17\n"
          ]
        },
        {
          "output_type": "stream",
          "name": "stderr",
          "text": [
            "Epoch 62/150: 100%|██████████| 150/150 [00:16<00:00,  9.04batch/s, loss=0.222]\n"
          ]
        },
        {
          "output_type": "stream",
          "name": "stdout",
          "text": [
            "Validation: Accuracy: 93.42%, Loss: 0.21\n"
          ]
        },
        {
          "output_type": "stream",
          "name": "stderr",
          "text": [
            "Epoch 63/150: 100%|██████████| 150/150 [00:16<00:00,  9.04batch/s, loss=0.213]\n"
          ]
        },
        {
          "output_type": "stream",
          "name": "stdout",
          "text": [
            "Validation: Accuracy: 93.75%, Loss: 0.20\n"
          ]
        },
        {
          "output_type": "stream",
          "name": "stderr",
          "text": [
            "Epoch 64/150: 100%|██████████| 150/150 [00:16<00:00,  9.01batch/s, loss=0.258]\n"
          ]
        },
        {
          "output_type": "stream",
          "name": "stdout",
          "text": [
            "Validation: Accuracy: 94.33%, Loss: 0.19\n"
          ]
        },
        {
          "output_type": "stream",
          "name": "stderr",
          "text": [
            "Epoch 65/150: 100%|██████████| 150/150 [00:16<00:00,  9.07batch/s, loss=0.382]\n"
          ]
        },
        {
          "output_type": "stream",
          "name": "stdout",
          "text": [
            "Validation: Accuracy: 94.58%, Loss: 0.18\n"
          ]
        },
        {
          "output_type": "stream",
          "name": "stderr",
          "text": [
            "Epoch 66/150: 100%|██████████| 150/150 [00:16<00:00,  9.14batch/s, loss=0.28]\n"
          ]
        },
        {
          "output_type": "stream",
          "name": "stdout",
          "text": [
            "Validation: Accuracy: 94.67%, Loss: 0.18\n"
          ]
        },
        {
          "output_type": "stream",
          "name": "stderr",
          "text": [
            "Epoch 67/150: 100%|██████████| 150/150 [00:16<00:00,  9.11batch/s, loss=0.339]\n"
          ]
        },
        {
          "output_type": "stream",
          "name": "stdout",
          "text": [
            "Validation: Accuracy: 94.83%, Loss: 0.18\n"
          ]
        },
        {
          "output_type": "stream",
          "name": "stderr",
          "text": [
            "Epoch 68/150: 100%|██████████| 150/150 [00:16<00:00,  9.07batch/s, loss=0.357]\n"
          ]
        },
        {
          "output_type": "stream",
          "name": "stdout",
          "text": [
            "Validation: Accuracy: 94.25%, Loss: 0.21\n"
          ]
        },
        {
          "output_type": "stream",
          "name": "stderr",
          "text": [
            "Epoch 69/150: 100%|██████████| 150/150 [00:16<00:00,  9.04batch/s, loss=0.146]\n"
          ]
        },
        {
          "output_type": "stream",
          "name": "stdout",
          "text": [
            "Validation: Accuracy: 94.58%, Loss: 0.19\n"
          ]
        },
        {
          "output_type": "stream",
          "name": "stderr",
          "text": [
            "Epoch 70/150: 100%|██████████| 150/150 [00:16<00:00,  9.14batch/s, loss=0.382]\n"
          ]
        },
        {
          "output_type": "stream",
          "name": "stdout",
          "text": [
            "Validation: Accuracy: 93.33%, Loss: 0.21\n"
          ]
        },
        {
          "output_type": "stream",
          "name": "stderr",
          "text": [
            "Epoch 71/150: 100%|██████████| 150/150 [00:16<00:00,  9.06batch/s, loss=0.259]\n"
          ]
        },
        {
          "output_type": "stream",
          "name": "stdout",
          "text": [
            "Validation: Accuracy: 94.08%, Loss: 0.20\n"
          ]
        },
        {
          "output_type": "stream",
          "name": "stderr",
          "text": [
            "Epoch 72/150: 100%|██████████| 150/150 [00:16<00:00,  9.04batch/s, loss=0.191]\n"
          ]
        },
        {
          "output_type": "stream",
          "name": "stdout",
          "text": [
            "Validation: Accuracy: 94.92%, Loss: 0.17\n"
          ]
        },
        {
          "output_type": "stream",
          "name": "stderr",
          "text": [
            "Epoch 73/150: 100%|██████████| 150/150 [00:16<00:00,  9.03batch/s, loss=0.147]\n"
          ]
        },
        {
          "output_type": "stream",
          "name": "stdout",
          "text": [
            "Validation: Accuracy: 93.50%, Loss: 0.20\n"
          ]
        },
        {
          "output_type": "stream",
          "name": "stderr",
          "text": [
            "Epoch 74/150: 100%|██████████| 150/150 [00:16<00:00,  9.18batch/s, loss=0.0637]\n"
          ]
        },
        {
          "output_type": "stream",
          "name": "stdout",
          "text": [
            "Validation: Accuracy: 93.67%, Loss: 0.20\n"
          ]
        },
        {
          "output_type": "stream",
          "name": "stderr",
          "text": [
            "Epoch 75/150: 100%|██████████| 150/150 [00:16<00:00,  9.05batch/s, loss=0.298]\n"
          ]
        },
        {
          "output_type": "stream",
          "name": "stdout",
          "text": [
            "Validation: Accuracy: 94.08%, Loss: 0.18\n"
          ]
        },
        {
          "output_type": "stream",
          "name": "stderr",
          "text": [
            "Epoch 76/150: 100%|██████████| 150/150 [00:16<00:00,  9.10batch/s, loss=0.132]\n"
          ]
        },
        {
          "output_type": "stream",
          "name": "stdout",
          "text": [
            "Validation: Accuracy: 95.33%, Loss: 0.15\n"
          ]
        },
        {
          "output_type": "stream",
          "name": "stderr",
          "text": [
            "Epoch 77/150: 100%|██████████| 150/150 [00:16<00:00,  9.13batch/s, loss=0.125]\n"
          ]
        },
        {
          "output_type": "stream",
          "name": "stdout",
          "text": [
            "Validation: Accuracy: 94.92%, Loss: 0.17\n"
          ]
        },
        {
          "output_type": "stream",
          "name": "stderr",
          "text": [
            "Epoch 78/150: 100%|██████████| 150/150 [00:16<00:00,  9.04batch/s, loss=0.188]\n"
          ]
        },
        {
          "output_type": "stream",
          "name": "stdout",
          "text": [
            "Validation: Accuracy: 94.75%, Loss: 0.19\n"
          ]
        },
        {
          "output_type": "stream",
          "name": "stderr",
          "text": [
            "Epoch 79/150: 100%|██████████| 150/150 [00:16<00:00,  9.05batch/s, loss=0.282]\n"
          ]
        },
        {
          "output_type": "stream",
          "name": "stdout",
          "text": [
            "Validation: Accuracy: 95.08%, Loss: 0.20\n"
          ]
        },
        {
          "output_type": "stream",
          "name": "stderr",
          "text": [
            "Epoch 80/150: 100%|██████████| 150/150 [00:16<00:00,  9.04batch/s, loss=0.175]\n"
          ]
        },
        {
          "output_type": "stream",
          "name": "stdout",
          "text": [
            "Validation: Accuracy: 94.33%, Loss: 0.20\n"
          ]
        },
        {
          "output_type": "stream",
          "name": "stderr",
          "text": [
            "Epoch 81/150: 100%|██████████| 150/150 [00:16<00:00,  9.02batch/s, loss=0.249]\n"
          ]
        },
        {
          "output_type": "stream",
          "name": "stdout",
          "text": [
            "Validation: Accuracy: 95.25%, Loss: 0.16\n"
          ]
        },
        {
          "output_type": "stream",
          "name": "stderr",
          "text": [
            "Epoch 82/150: 100%|██████████| 150/150 [00:16<00:00,  9.11batch/s, loss=0.151]\n"
          ]
        },
        {
          "output_type": "stream",
          "name": "stdout",
          "text": [
            "Validation: Accuracy: 94.33%, Loss: 0.20\n"
          ]
        },
        {
          "output_type": "stream",
          "name": "stderr",
          "text": [
            "Epoch 83/150: 100%|██████████| 150/150 [00:16<00:00,  9.11batch/s, loss=0.202]\n"
          ]
        },
        {
          "output_type": "stream",
          "name": "stdout",
          "text": [
            "Validation: Accuracy: 94.42%, Loss: 0.20\n"
          ]
        },
        {
          "output_type": "stream",
          "name": "stderr",
          "text": [
            "Epoch 84/150: 100%|██████████| 150/150 [00:16<00:00,  9.04batch/s, loss=0.208]\n"
          ]
        },
        {
          "output_type": "stream",
          "name": "stdout",
          "text": [
            "Validation: Accuracy: 95.25%, Loss: 0.18\n"
          ]
        },
        {
          "output_type": "stream",
          "name": "stderr",
          "text": [
            "Epoch 85/150: 100%|██████████| 150/150 [00:16<00:00,  9.04batch/s, loss=0.189]\n"
          ]
        },
        {
          "output_type": "stream",
          "name": "stdout",
          "text": [
            "Validation: Accuracy: 95.25%, Loss: 0.18\n"
          ]
        },
        {
          "output_type": "stream",
          "name": "stderr",
          "text": [
            "Epoch 86/150: 100%|██████████| 150/150 [00:16<00:00,  9.00batch/s, loss=0.395]\n"
          ]
        },
        {
          "output_type": "stream",
          "name": "stdout",
          "text": [
            "Validation: Accuracy: 94.25%, Loss: 0.20\n"
          ]
        },
        {
          "output_type": "stream",
          "name": "stderr",
          "text": [
            "Epoch 87/150: 100%|██████████| 150/150 [00:16<00:00,  9.02batch/s, loss=0.263]\n"
          ]
        },
        {
          "output_type": "stream",
          "name": "stdout",
          "text": [
            "Validation: Accuracy: 95.67%, Loss: 0.17\n"
          ]
        },
        {
          "output_type": "stream",
          "name": "stderr",
          "text": [
            "Epoch 88/150: 100%|██████████| 150/150 [00:16<00:00,  9.11batch/s, loss=0.084]\n"
          ]
        },
        {
          "output_type": "stream",
          "name": "stdout",
          "text": [
            "Validation: Accuracy: 96.58%, Loss: 0.13\n"
          ]
        },
        {
          "output_type": "stream",
          "name": "stderr",
          "text": [
            "Epoch 89/150: 100%|██████████| 150/150 [00:16<00:00,  8.96batch/s, loss=0.105]\n"
          ]
        },
        {
          "output_type": "stream",
          "name": "stdout",
          "text": [
            "Validation: Accuracy: 94.75%, Loss: 0.16\n"
          ]
        },
        {
          "output_type": "stream",
          "name": "stderr",
          "text": [
            "Epoch 90/150: 100%|██████████| 150/150 [00:16<00:00,  9.01batch/s, loss=0.228]\n"
          ]
        },
        {
          "output_type": "stream",
          "name": "stdout",
          "text": [
            "Validation: Accuracy: 94.83%, Loss: 0.16\n"
          ]
        },
        {
          "output_type": "stream",
          "name": "stderr",
          "text": [
            "Epoch 91/150: 100%|██████████| 150/150 [00:16<00:00,  9.02batch/s, loss=0.0898]\n"
          ]
        },
        {
          "output_type": "stream",
          "name": "stdout",
          "text": [
            "Validation: Accuracy: 95.42%, Loss: 0.15\n"
          ]
        },
        {
          "output_type": "stream",
          "name": "stderr",
          "text": [
            "Epoch 92/150: 100%|██████████| 150/150 [00:16<00:00,  9.07batch/s, loss=0.17]\n"
          ]
        },
        {
          "output_type": "stream",
          "name": "stdout",
          "text": [
            "Validation: Accuracy: 95.50%, Loss: 0.16\n"
          ]
        },
        {
          "output_type": "stream",
          "name": "stderr",
          "text": [
            "Epoch 93/150: 100%|██████████| 150/150 [00:16<00:00,  8.98batch/s, loss=0.0592]\n"
          ]
        },
        {
          "output_type": "stream",
          "name": "stdout",
          "text": [
            "Validation: Accuracy: 95.25%, Loss: 0.16\n"
          ]
        },
        {
          "output_type": "stream",
          "name": "stderr",
          "text": [
            "Epoch 94/150: 100%|██████████| 150/150 [00:16<00:00,  8.88batch/s, loss=0.292]\n"
          ]
        },
        {
          "output_type": "stream",
          "name": "stdout",
          "text": [
            "Validation: Accuracy: 95.42%, Loss: 0.18\n"
          ]
        },
        {
          "output_type": "stream",
          "name": "stderr",
          "text": [
            "Epoch 95/150: 100%|██████████| 150/150 [00:16<00:00,  9.03batch/s, loss=0.126]\n"
          ]
        },
        {
          "output_type": "stream",
          "name": "stdout",
          "text": [
            "Validation: Accuracy: 95.58%, Loss: 0.18\n"
          ]
        },
        {
          "output_type": "stream",
          "name": "stderr",
          "text": [
            "Epoch 96/150: 100%|██████████| 150/150 [00:16<00:00,  9.04batch/s, loss=0.0656]\n"
          ]
        },
        {
          "output_type": "stream",
          "name": "stdout",
          "text": [
            "Validation: Accuracy: 95.75%, Loss: 0.15\n"
          ]
        },
        {
          "output_type": "stream",
          "name": "stderr",
          "text": [
            "Epoch 97/150: 100%|██████████| 150/150 [00:16<00:00,  9.06batch/s, loss=0.221]\n"
          ]
        },
        {
          "output_type": "stream",
          "name": "stdout",
          "text": [
            "Validation: Accuracy: 96.00%, Loss: 0.15\n"
          ]
        },
        {
          "output_type": "stream",
          "name": "stderr",
          "text": [
            "Epoch 98/150: 100%|██████████| 150/150 [00:16<00:00,  9.03batch/s, loss=0.0685]\n"
          ]
        },
        {
          "output_type": "stream",
          "name": "stdout",
          "text": [
            "Validation: Accuracy: 95.50%, Loss: 0.18\n"
          ]
        },
        {
          "output_type": "stream",
          "name": "stderr",
          "text": [
            "Epoch 99/150: 100%|██████████| 150/150 [00:16<00:00,  9.15batch/s, loss=0.315]\n"
          ]
        },
        {
          "output_type": "stream",
          "name": "stdout",
          "text": [
            "Validation: Accuracy: 95.58%, Loss: 0.16\n"
          ]
        },
        {
          "output_type": "stream",
          "name": "stderr",
          "text": [
            "Epoch 100/150: 100%|██████████| 150/150 [00:16<00:00,  8.88batch/s, loss=0.265]\n"
          ]
        },
        {
          "output_type": "stream",
          "name": "stdout",
          "text": [
            "Validation: Accuracy: 96.42%, Loss: 0.14\n"
          ]
        },
        {
          "output_type": "stream",
          "name": "stderr",
          "text": [
            "Epoch 101/150: 100%|██████████| 150/150 [00:16<00:00,  9.05batch/s, loss=0.111]\n"
          ]
        },
        {
          "output_type": "stream",
          "name": "stdout",
          "text": [
            "Validation: Accuracy: 94.67%, Loss: 0.18\n"
          ]
        },
        {
          "output_type": "stream",
          "name": "stderr",
          "text": [
            "Epoch 102/150: 100%|██████████| 150/150 [00:16<00:00,  9.11batch/s, loss=0.0517]\n"
          ]
        },
        {
          "output_type": "stream",
          "name": "stdout",
          "text": [
            "Validation: Accuracy: 95.25%, Loss: 0.16\n"
          ]
        },
        {
          "output_type": "stream",
          "name": "stderr",
          "text": [
            "Epoch 103/150: 100%|██████████| 150/150 [00:16<00:00,  9.08batch/s, loss=0.329]\n"
          ]
        },
        {
          "output_type": "stream",
          "name": "stdout",
          "text": [
            "Validation: Accuracy: 95.83%, Loss: 0.15\n"
          ]
        },
        {
          "output_type": "stream",
          "name": "stderr",
          "text": [
            "Epoch 104/150: 100%|██████████| 150/150 [00:16<00:00,  9.07batch/s, loss=0.172]\n"
          ]
        },
        {
          "output_type": "stream",
          "name": "stdout",
          "text": [
            "Validation: Accuracy: 95.67%, Loss: 0.16\n"
          ]
        },
        {
          "output_type": "stream",
          "name": "stderr",
          "text": [
            "Epoch 105/150: 100%|██████████| 150/150 [00:16<00:00,  9.14batch/s, loss=0.246]\n"
          ]
        },
        {
          "output_type": "stream",
          "name": "stdout",
          "text": [
            "Validation: Accuracy: 95.50%, Loss: 0.16\n"
          ]
        },
        {
          "output_type": "stream",
          "name": "stderr",
          "text": [
            "Epoch 106/150: 100%|██████████| 150/150 [00:16<00:00,  9.07batch/s, loss=0.079]\n"
          ]
        },
        {
          "output_type": "stream",
          "name": "stdout",
          "text": [
            "Validation: Accuracy: 96.33%, Loss: 0.13\n"
          ]
        },
        {
          "output_type": "stream",
          "name": "stderr",
          "text": [
            "Epoch 107/150: 100%|██████████| 150/150 [00:16<00:00,  9.08batch/s, loss=0.225]\n"
          ]
        },
        {
          "output_type": "stream",
          "name": "stdout",
          "text": [
            "Validation: Accuracy: 96.17%, Loss: 0.14\n"
          ]
        },
        {
          "output_type": "stream",
          "name": "stderr",
          "text": [
            "Epoch 108/150: 100%|██████████| 150/150 [00:16<00:00,  9.11batch/s, loss=0.125]\n"
          ]
        },
        {
          "output_type": "stream",
          "name": "stdout",
          "text": [
            "Validation: Accuracy: 95.42%, Loss: 0.17\n"
          ]
        },
        {
          "output_type": "stream",
          "name": "stderr",
          "text": [
            "Epoch 109/150: 100%|██████████| 150/150 [00:16<00:00,  9.12batch/s, loss=0.072]\n"
          ]
        },
        {
          "output_type": "stream",
          "name": "stdout",
          "text": [
            "Validation: Accuracy: 95.67%, Loss: 0.18\n"
          ]
        },
        {
          "output_type": "stream",
          "name": "stderr",
          "text": [
            "Epoch 110/150: 100%|██████████| 150/150 [00:16<00:00,  9.10batch/s, loss=0.188]\n"
          ]
        },
        {
          "output_type": "stream",
          "name": "stdout",
          "text": [
            "Validation: Accuracy: 95.50%, Loss: 0.17\n"
          ]
        },
        {
          "output_type": "stream",
          "name": "stderr",
          "text": [
            "Epoch 111/150: 100%|██████████| 150/150 [00:16<00:00,  9.03batch/s, loss=0.301]\n"
          ]
        },
        {
          "output_type": "stream",
          "name": "stdout",
          "text": [
            "Validation: Accuracy: 94.58%, Loss: 0.19\n"
          ]
        },
        {
          "output_type": "stream",
          "name": "stderr",
          "text": [
            "Epoch 112/150: 100%|██████████| 150/150 [00:16<00:00,  9.07batch/s, loss=0.14]\n"
          ]
        },
        {
          "output_type": "stream",
          "name": "stdout",
          "text": [
            "Validation: Accuracy: 95.08%, Loss: 0.21\n"
          ]
        },
        {
          "output_type": "stream",
          "name": "stderr",
          "text": [
            "Epoch 113/150: 100%|██████████| 150/150 [00:16<00:00,  9.19batch/s, loss=0.056]\n"
          ]
        },
        {
          "output_type": "stream",
          "name": "stdout",
          "text": [
            "Validation: Accuracy: 95.75%, Loss: 0.17\n"
          ]
        },
        {
          "output_type": "stream",
          "name": "stderr",
          "text": [
            "Epoch 114/150: 100%|██████████| 150/150 [00:16<00:00,  8.90batch/s, loss=0.156]\n"
          ]
        },
        {
          "output_type": "stream",
          "name": "stdout",
          "text": [
            "Validation: Accuracy: 94.83%, Loss: 0.19\n"
          ]
        },
        {
          "output_type": "stream",
          "name": "stderr",
          "text": [
            "Epoch 115/150: 100%|██████████| 150/150 [00:16<00:00,  9.08batch/s, loss=0.213]\n"
          ]
        },
        {
          "output_type": "stream",
          "name": "stdout",
          "text": [
            "Validation: Accuracy: 96.17%, Loss: 0.14\n"
          ]
        },
        {
          "output_type": "stream",
          "name": "stderr",
          "text": [
            "Epoch 116/150: 100%|██████████| 150/150 [00:16<00:00,  9.03batch/s, loss=0.0788]\n"
          ]
        },
        {
          "output_type": "stream",
          "name": "stdout",
          "text": [
            "Validation: Accuracy: 95.50%, Loss: 0.19\n"
          ]
        },
        {
          "output_type": "stream",
          "name": "stderr",
          "text": [
            "Epoch 117/150: 100%|██████████| 150/150 [00:16<00:00,  8.87batch/s, loss=0.245]\n"
          ]
        },
        {
          "output_type": "stream",
          "name": "stdout",
          "text": [
            "Validation: Accuracy: 96.00%, Loss: 0.16\n"
          ]
        },
        {
          "output_type": "stream",
          "name": "stderr",
          "text": [
            "Epoch 118/150: 100%|██████████| 150/150 [00:16<00:00,  9.05batch/s, loss=0.154]\n"
          ]
        },
        {
          "output_type": "stream",
          "name": "stdout",
          "text": [
            "Validation: Accuracy: 94.33%, Loss: 0.22\n"
          ]
        },
        {
          "output_type": "stream",
          "name": "stderr",
          "text": [
            "Epoch 119/150: 100%|██████████| 150/150 [00:16<00:00,  8.95batch/s, loss=0.17]\n"
          ]
        },
        {
          "output_type": "stream",
          "name": "stdout",
          "text": [
            "Validation: Accuracy: 94.83%, Loss: 0.19\n"
          ]
        },
        {
          "output_type": "stream",
          "name": "stderr",
          "text": [
            "Epoch 120/150: 100%|██████████| 150/150 [00:16<00:00,  8.99batch/s, loss=0.297]\n"
          ]
        },
        {
          "output_type": "stream",
          "name": "stdout",
          "text": [
            "Validation: Accuracy: 94.92%, Loss: 0.17\n"
          ]
        },
        {
          "output_type": "stream",
          "name": "stderr",
          "text": [
            "Epoch 121/150: 100%|██████████| 150/150 [00:16<00:00,  8.99batch/s, loss=0.344]\n"
          ]
        },
        {
          "output_type": "stream",
          "name": "stdout",
          "text": [
            "Validation: Accuracy: 95.17%, Loss: 0.18\n"
          ]
        },
        {
          "output_type": "stream",
          "name": "stderr",
          "text": [
            "Epoch 122/150: 100%|██████████| 150/150 [00:16<00:00,  9.03batch/s, loss=0.24]\n"
          ]
        },
        {
          "output_type": "stream",
          "name": "stdout",
          "text": [
            "Validation: Accuracy: 96.17%, Loss: 0.15\n"
          ]
        },
        {
          "output_type": "stream",
          "name": "stderr",
          "text": [
            "Epoch 123/150: 100%|██████████| 150/150 [00:16<00:00,  8.96batch/s, loss=0.203]\n"
          ]
        },
        {
          "output_type": "stream",
          "name": "stdout",
          "text": [
            "Validation: Accuracy: 95.92%, Loss: 0.15\n"
          ]
        },
        {
          "output_type": "stream",
          "name": "stderr",
          "text": [
            "Epoch 124/150: 100%|██████████| 150/150 [00:16<00:00,  9.03batch/s, loss=0.129]\n"
          ]
        },
        {
          "output_type": "stream",
          "name": "stdout",
          "text": [
            "Validation: Accuracy: 95.58%, Loss: 0.17\n"
          ]
        },
        {
          "output_type": "stream",
          "name": "stderr",
          "text": [
            "Epoch 125/150: 100%|██████████| 150/150 [00:16<00:00,  9.08batch/s, loss=0.166]\n"
          ]
        },
        {
          "output_type": "stream",
          "name": "stdout",
          "text": [
            "Validation: Accuracy: 95.58%, Loss: 0.15\n"
          ]
        },
        {
          "output_type": "stream",
          "name": "stderr",
          "text": [
            "Epoch 126/150: 100%|██████████| 150/150 [00:16<00:00,  9.08batch/s, loss=0.356]\n"
          ]
        },
        {
          "output_type": "stream",
          "name": "stdout",
          "text": [
            "Validation: Accuracy: 96.25%, Loss: 0.13\n"
          ]
        },
        {
          "output_type": "stream",
          "name": "stderr",
          "text": [
            "Epoch 127/150: 100%|██████████| 150/150 [00:16<00:00,  8.90batch/s, loss=0.29]\n"
          ]
        },
        {
          "output_type": "stream",
          "name": "stdout",
          "text": [
            "Validation: Accuracy: 95.58%, Loss: 0.16\n"
          ]
        },
        {
          "output_type": "stream",
          "name": "stderr",
          "text": [
            "Epoch 128/150: 100%|██████████| 150/150 [00:16<00:00,  9.12batch/s, loss=0.168]\n"
          ]
        },
        {
          "output_type": "stream",
          "name": "stdout",
          "text": [
            "Validation: Accuracy: 96.00%, Loss: 0.16\n"
          ]
        },
        {
          "output_type": "stream",
          "name": "stderr",
          "text": [
            "Epoch 129/150: 100%|██████████| 150/150 [00:17<00:00,  8.78batch/s, loss=0.304]\n"
          ]
        },
        {
          "output_type": "stream",
          "name": "stdout",
          "text": [
            "Validation: Accuracy: 95.33%, Loss: 0.15\n"
          ]
        },
        {
          "output_type": "stream",
          "name": "stderr",
          "text": [
            "Epoch 130/150: 100%|██████████| 150/150 [00:16<00:00,  9.02batch/s, loss=0.0939]\n"
          ]
        },
        {
          "output_type": "stream",
          "name": "stdout",
          "text": [
            "Validation: Accuracy: 95.67%, Loss: 0.18\n"
          ]
        },
        {
          "output_type": "stream",
          "name": "stderr",
          "text": [
            "Epoch 131/150: 100%|██████████| 150/150 [00:16<00:00,  8.89batch/s, loss=0.209]\n"
          ]
        },
        {
          "output_type": "stream",
          "name": "stdout",
          "text": [
            "Validation: Accuracy: 95.58%, Loss: 0.14\n"
          ]
        },
        {
          "output_type": "stream",
          "name": "stderr",
          "text": [
            "Epoch 132/150: 100%|██████████| 150/150 [00:16<00:00,  9.10batch/s, loss=0.0793]\n"
          ]
        },
        {
          "output_type": "stream",
          "name": "stdout",
          "text": [
            "Validation: Accuracy: 95.75%, Loss: 0.15\n"
          ]
        },
        {
          "output_type": "stream",
          "name": "stderr",
          "text": [
            "Epoch 133/150: 100%|██████████| 150/150 [00:17<00:00,  8.82batch/s, loss=0.0414]\n"
          ]
        },
        {
          "output_type": "stream",
          "name": "stdout",
          "text": [
            "Validation: Accuracy: 95.00%, Loss: 0.16\n"
          ]
        },
        {
          "output_type": "stream",
          "name": "stderr",
          "text": [
            "Epoch 134/150: 100%|██████████| 150/150 [00:16<00:00,  9.05batch/s, loss=0.117]\n"
          ]
        },
        {
          "output_type": "stream",
          "name": "stdout",
          "text": [
            "Validation: Accuracy: 96.42%, Loss: 0.15\n"
          ]
        },
        {
          "output_type": "stream",
          "name": "stderr",
          "text": [
            "Epoch 135/150: 100%|██████████| 150/150 [00:16<00:00,  9.11batch/s, loss=0.0827]\n"
          ]
        },
        {
          "output_type": "stream",
          "name": "stdout",
          "text": [
            "Validation: Accuracy: 95.92%, Loss: 0.15\n"
          ]
        },
        {
          "output_type": "stream",
          "name": "stderr",
          "text": [
            "Epoch 136/150: 100%|██████████| 150/150 [00:16<00:00,  8.97batch/s, loss=0.338]\n"
          ]
        },
        {
          "output_type": "stream",
          "name": "stdout",
          "text": [
            "Validation: Accuracy: 95.17%, Loss: 0.19\n"
          ]
        },
        {
          "output_type": "stream",
          "name": "stderr",
          "text": [
            "Epoch 137/150: 100%|██████████| 150/150 [00:16<00:00,  9.08batch/s, loss=0.267]\n"
          ]
        },
        {
          "output_type": "stream",
          "name": "stdout",
          "text": [
            "Validation: Accuracy: 95.50%, Loss: 0.19\n"
          ]
        },
        {
          "output_type": "stream",
          "name": "stderr",
          "text": [
            "Epoch 138/150: 100%|██████████| 150/150 [00:16<00:00,  9.05batch/s, loss=0.145]\n"
          ]
        },
        {
          "output_type": "stream",
          "name": "stdout",
          "text": [
            "Validation: Accuracy: 95.08%, Loss: 0.19\n"
          ]
        },
        {
          "output_type": "stream",
          "name": "stderr",
          "text": [
            "Epoch 139/150: 100%|██████████| 150/150 [00:16<00:00,  9.02batch/s, loss=0.163]\n"
          ]
        },
        {
          "output_type": "stream",
          "name": "stdout",
          "text": [
            "Validation: Accuracy: 96.92%, Loss: 0.14\n"
          ]
        },
        {
          "output_type": "stream",
          "name": "stderr",
          "text": [
            "Epoch 140/150: 100%|██████████| 150/150 [00:16<00:00,  9.12batch/s, loss=0.113]\n"
          ]
        },
        {
          "output_type": "stream",
          "name": "stdout",
          "text": [
            "Validation: Accuracy: 96.08%, Loss: 0.15\n"
          ]
        },
        {
          "output_type": "stream",
          "name": "stderr",
          "text": [
            "Epoch 141/150: 100%|██████████| 150/150 [00:16<00:00,  9.11batch/s, loss=0.167]\n"
          ]
        },
        {
          "output_type": "stream",
          "name": "stdout",
          "text": [
            "Validation: Accuracy: 96.00%, Loss: 0.16\n"
          ]
        },
        {
          "output_type": "stream",
          "name": "stderr",
          "text": [
            "Epoch 142/150: 100%|██████████| 150/150 [00:16<00:00,  9.06batch/s, loss=0.164]\n"
          ]
        },
        {
          "output_type": "stream",
          "name": "stdout",
          "text": [
            "Validation: Accuracy: 96.00%, Loss: 0.16\n"
          ]
        },
        {
          "output_type": "stream",
          "name": "stderr",
          "text": [
            "Epoch 143/150: 100%|██████████| 150/150 [00:16<00:00,  9.09batch/s, loss=0.205]\n"
          ]
        },
        {
          "output_type": "stream",
          "name": "stdout",
          "text": [
            "Validation: Accuracy: 96.42%, Loss: 0.15\n"
          ]
        },
        {
          "output_type": "stream",
          "name": "stderr",
          "text": [
            "Epoch 144/150: 100%|██████████| 150/150 [00:16<00:00,  9.09batch/s, loss=0.062]\n"
          ]
        },
        {
          "output_type": "stream",
          "name": "stdout",
          "text": [
            "Validation: Accuracy: 95.58%, Loss: 0.17\n"
          ]
        },
        {
          "output_type": "stream",
          "name": "stderr",
          "text": [
            "Epoch 145/150: 100%|██████████| 150/150 [00:16<00:00,  9.02batch/s, loss=0.199]\n"
          ]
        },
        {
          "output_type": "stream",
          "name": "stdout",
          "text": [
            "Validation: Accuracy: 95.50%, Loss: 0.18\n"
          ]
        },
        {
          "output_type": "stream",
          "name": "stderr",
          "text": [
            "Epoch 146/150: 100%|██████████| 150/150 [00:16<00:00,  9.08batch/s, loss=0.17]\n"
          ]
        },
        {
          "output_type": "stream",
          "name": "stdout",
          "text": [
            "Validation: Accuracy: 96.00%, Loss: 0.15\n"
          ]
        },
        {
          "output_type": "stream",
          "name": "stderr",
          "text": [
            "Epoch 147/150: 100%|██████████| 150/150 [00:16<00:00,  9.01batch/s, loss=0.0397]\n"
          ]
        },
        {
          "output_type": "stream",
          "name": "stdout",
          "text": [
            "Validation: Accuracy: 96.17%, Loss: 0.14\n"
          ]
        },
        {
          "output_type": "stream",
          "name": "stderr",
          "text": [
            "Epoch 148/150: 100%|██████████| 150/150 [00:16<00:00,  9.00batch/s, loss=0.071]\n"
          ]
        },
        {
          "output_type": "stream",
          "name": "stdout",
          "text": [
            "Validation: Accuracy: 96.75%, Loss: 0.17\n"
          ]
        },
        {
          "output_type": "stream",
          "name": "stderr",
          "text": [
            "Epoch 149/150: 100%|██████████| 150/150 [00:16<00:00,  9.10batch/s, loss=0.0616]\n"
          ]
        },
        {
          "output_type": "stream",
          "name": "stdout",
          "text": [
            "Validation: Accuracy: 95.42%, Loss: 0.19\n"
          ]
        },
        {
          "output_type": "stream",
          "name": "stderr",
          "text": [
            "Epoch 150/150: 100%|██████████| 150/150 [00:16<00:00,  9.12batch/s, loss=0.191]\n"
          ]
        },
        {
          "output_type": "stream",
          "name": "stdout",
          "text": [
            "Validation: Accuracy: 95.75%, Loss: 0.17\n"
          ]
        }
      ]
    },
    {
      "cell_type": "code",
      "source": [
        "best_test_results = []\n",
        "\n",
        "for val_acc, epoch, model_state in best_models:\n",
        "    model.load_state_dict(model_state)  # Load model state from memory\n",
        "    model.eval()\n",
        "\n",
        "    correct_test = 0\n",
        "    total_test = 0\n",
        "    all_labels = []\n",
        "    all_predictions = []\n",
        "\n",
        "    with torch.no_grad():\n",
        "        for images, labels in test_loader:\n",
        "            images = images.to(device)\n",
        "            labels = labels.to(device)\n",
        "            outputs = model(images)\n",
        "            _, predicted = torch.max(outputs, 1)\n",
        "            all_labels.extend(labels.cpu().numpy())\n",
        "            all_predictions.extend(predicted.cpu().numpy())\n",
        "            total_test += labels.size(0)\n",
        "            correct_test += (predicted == labels).sum().item()\n",
        "\n",
        "    test_accuracy = 100 * correct_test / total_test\n",
        "    print(f\"Model from Epoch {epoch+1} (Val Acc: {val_acc:.2f}%) -> Test Accuracy: {test_accuracy:.2f}%\")\n",
        "\n",
        "    best_test_results.append((test_accuracy, epoch, model_state, all_labels, all_predictions))\n",
        "\n",
        "# Find the model with the highest test accuracy\n",
        "best_test_results.sort(key=lambda x: x[0], reverse=True)\n",
        "best_model_test = best_test_results[0]\n",
        "best_test_acc, best_epoch, best_model_state, best_labels, best_predictions = best_model_test\n",
        "\n",
        "print(f\"\\nBest Model on Test Set: Epoch {best_epoch+1} with Test Accuracy: {best_test_acc:.2f}%\")\n",
        "\n",
        "# Display the confusion matrix for the best model\n",
        "cm = confusion_matrix(best_labels, best_predictions)\n",
        "plt.figure(figsize=(10, 8))\n",
        "sns.heatmap(cm, annot=True, fmt='d', cmap='Greens',\n",
        "            xticklabels=dataset.classes, yticklabels=dataset.classes)\n",
        "plt.xlabel('Predicted')\n",
        "plt.ylabel('True')\n",
        "plt.title(f'Confusion Matrix for Best Model (Epoch {best_epoch+1})')\n",
        "plt.show()"
      ],
      "metadata": {
        "id": "6EMLOfKz7YbR",
        "colab": {
          "base_uri": "https://localhost:8080/",
          "height": 995
        },
        "outputId": "d878e482-3e70-4991-dfef-5ff08df2cf2e"
      },
      "execution_count": 6,
      "outputs": [
        {
          "output_type": "stream",
          "name": "stdout",
          "text": [
            "Model from Epoch 100 (Val Acc: 96.42%) -> Test Accuracy: 95.58%\n",
            "Model from Epoch 148 (Val Acc: 96.75%) -> Test Accuracy: 95.50%\n",
            "Model from Epoch 122 (Val Acc: 96.17%) -> Test Accuracy: 95.50%\n",
            "Model from Epoch 134 (Val Acc: 96.42%) -> Test Accuracy: 95.83%\n",
            "Model from Epoch 115 (Val Acc: 96.17%) -> Test Accuracy: 95.92%\n",
            "Model from Epoch 126 (Val Acc: 96.25%) -> Test Accuracy: 96.25%\n",
            "Model from Epoch 139 (Val Acc: 96.92%) -> Test Accuracy: 96.08%\n",
            "Model from Epoch 88 (Val Acc: 96.58%) -> Test Accuracy: 95.58%\n",
            "Model from Epoch 143 (Val Acc: 96.42%) -> Test Accuracy: 95.92%\n",
            "Model from Epoch 106 (Val Acc: 96.33%) -> Test Accuracy: 94.92%\n",
            "\n",
            "Best Model on Test Set: Epoch 126 with Test Accuracy: 96.25%\n"
          ]
        },
        {
          "output_type": "display_data",
          "data": {
            "text/plain": [
              "<Figure size 1000x800 with 2 Axes>"
            ],
            "image/png": "[encoded data removed]"
          },
          "metadata": {}
        }
      ]
    }
  ]
}